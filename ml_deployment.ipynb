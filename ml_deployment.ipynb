{
 "cells": [
  {
   "cell_type": "code",
   "execution_count": null,
   "metadata": {},
   "outputs": [
    {
     "name": "stdout",
     "output_type": "stream",
     "text": [
      "Using Bucket: aipi510-ml-deployment-bucket\n",
      "{'ResponseMetadata': {'RequestId': '2D7BXM23Y8496793', 'HostId': 'XXFrJVLOnSIMBemhEtIS2v38jXcYJ4BbwpqGLzJvD8TESF/3vbHbBm+zRfJEXz14zKayl7KBUjk=', 'HTTPStatusCode': 200, 'HTTPHeaders': {'x-amz-id-2': 'XXFrJVLOnSIMBemhEtIS2v38jXcYJ4BbwpqGLzJvD8TESF/3vbHbBm+zRfJEXz14zKayl7KBUjk=', 'x-amz-request-id': '2D7BXM23Y8496793', 'date': 'Thu, 31 Oct 2024 23:14:21 GMT', 'x-amz-bucket-region': 'us-east-2', 'content-type': 'application/xml', 'transfer-encoding': 'chunked', 'server': 'AmazonS3'}, 'RetryAttempts': 0}, 'IsTruncated': False, 'Name': 'aipi510-ml-deployment-bucket', 'Prefix': '', 'MaxKeys': 1000, 'EncodingType': 'url', 'KeyCount': 0}\n",
      "Bucket is empty or inaccessible.\n"
     ]
    }
   ],
   "source": [
    "import json\n",
    "import torch\n",
    "from torchvision import models, transforms\n",
    "from PIL import Image\n",
    "import urllib.request\n",
    "import numpy as np\n",
    "import sagemaker\n",
    "import boto3\n",
    "\n",
    "sm_boto3 = boto3.client(\"sagemaker\")\n",
    "sess = sagemaker.Session()\n",
    "region = sess.boto_session.region_name\n",
    "bucket = \"aipi510-ml-deployment-bucket\"\n",
    "print(\"Using Bucket: \" + bucket)"
   ]
  },
  {
   "cell_type": "code",
   "execution_count": 2,
   "metadata": {},
   "outputs": [],
   "source": [
    "url = \"https://raw.githubusercontent.com/anishathalye/imagenet-simple-labels/master/imagenet-simple-labels.json\"\n",
    "urllib.request.urlretrieve(url, \"imagenet_class_index.json\")\n",
    "\n",
    "with open(\"imagenet_class_index.json\") as f:\n",
    "    labels = json.load(f)"
   ]
  },
  {
   "cell_type": "code",
   "execution_count": null,
   "metadata": {},
   "outputs": [],
   "source": [
    "# Load the ResNet-50 model pre-trained on ImageNet\n",
    "model = models.resnet50(weights=models.ResNet50_Weights.DEFAULT)\n",
    "model.eval()"
   ]
  },
  {
   "cell_type": "code",
   "execution_count": 4,
   "metadata": {},
   "outputs": [],
   "source": [
    "img_transform = transforms.Compose([\n",
    "    transforms.Resize(256),\n",
    "    transforms.CenterCrop(224),\n",
    "    transforms.ToTensor(),\n",
    "    transforms.Normalize(mean=[0.485, 0.456, 0.406], std=[0.229, 0.224, 0.225]),\n",
    "])"
   ]
  },
  {
   "cell_type": "code",
   "execution_count": 5,
   "metadata": {},
   "outputs": [
    {
     "name": "stdout",
     "output_type": "stream",
     "text": [
      "Australian Kelpie\n"
     ]
    }
   ],
   "source": [
    "img = Image.open(\"./img/Efes.png\")\n",
    "img_tensor = img_transform(img).unsqueeze(0)\n",
    "with torch.no_grad():\n",
    "    output = model(img_tensor)\n",
    "\n",
    "probabilities = torch.nn.functional.softmax(output[0], dim=0)\n",
    "_, predicted_class = probabilities.max(0)\n",
    "print(labels[predicted_class.item()])"
   ]
  }
 ],
 "metadata": {
  "kernelspec": {
   "display_name": "venv",
   "language": "python",
   "name": "python3"
  },
  "language_info": {
   "codemirror_mode": {
    "name": "ipython",
    "version": 3
   },
   "file_extension": ".py",
   "mimetype": "text/x-python",
   "name": "python",
   "nbconvert_exporter": "python",
   "pygments_lexer": "ipython3",
   "version": "3.9.18"
  }
 },
 "nbformat": 4,
 "nbformat_minor": 2
}
